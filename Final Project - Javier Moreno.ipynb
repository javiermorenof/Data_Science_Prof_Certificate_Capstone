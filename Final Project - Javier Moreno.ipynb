{
 "cells": [
  {
   "cell_type": "markdown",
   "metadata": {},
   "source": [
    "<h1 align=center><font size = 7>A quick approach to the venue stratification in Madrid's neighborhoods based on the average income</font></h1>"
   ]
  },
  {
   "cell_type": "markdown",
   "metadata": {},
   "source": [
    "## Table of Contents\n",
    "\n",
    "<div class=\"alert alert-block alert-info\" style=\"margin-top: 20px\">\n",
    "\n",
    "<font size = 3>\n",
    "\n",
    "1. <a href=\"#item1\">Introduction</a>\n",
    "\n",
    "   \n",
    "</font>\n",
    "</div>"
   ]
  },
  {
   "cell_type": "markdown",
   "metadata": {},
   "source": [
    "## I. Introduction\n",
    "\n",
    "### a. Description of the problem and a discussion of the background\n",
    "\n",
    "Madrid is the capital and one of the most popular cities in Spain. This city has 3.3 million inhabitants and the metropolitan area with approximately 6.5 million of citizens. It is the second-largest city in the European Union (EU), surpassed only by Berlin, and its monocentric metropolitan area is the second-largest in the EU, smaller only than Paris. The municipality covers 604.3 km2 (233.3 sq mi).\n",
    "\n",
    "In the city of Madrid there are 21 boroughs with a huge unequality in avergae income between the neighborhoods. But is there any relationship between the venues and business in the different boroughs and the average incomes of their inhabitants? Are economic business such as banks in the richest parts of the city and lottery booths and betting shops in the poorest?\n",
    "\n",
    "The purpose of this analysis is try to classify Madrid's neighborhoods based on the economic business they have around and being a first step for future analysis.\n",
    "\n",
    "The methodology which will be used for this first approach will be the classic K-Means clustering and will be used graphic libraries, such as Seasborn or Matplotlib, which will be used with Folium to present better the results.\n",
    "\n",
    "### b. Data description\n",
    "\n",
    "To consider this problem, the data which will be used will be:\n",
    "\n",
    "- Foursquare API to get information about the venues in each neighborhood.\n",
    "- Geojson files to plot the different neighborhoods in Madrid.\n",
    "- The latest House Price Averages for Madrid, which were obtained from the official website of the city.\n",
    "- The average income of Madrid inhabitants, split by neighborhoods, which was obtained from the INE, the official statistical entity in Spain.\n"
   ]
  },
  {
   "cell_type": "code",
   "execution_count": 6,
   "metadata": {},
   "outputs": [
    {
     "name": "stdout",
     "output_type": "stream",
     "text": [
      "Wall time: 0 ns\n"
     ]
    }
   ],
   "source": [
    "%%time\n",
    "\n",
    "import pandas as pd\n",
    "import numpy as np\n",
    "import os\n",
    "import seaborn as sns\n",
    "\n",
    "# Matplotlib and associated plotting modules\n",
    "import matplotlib as mpl\n",
    "import matplotlib.pyplot as plt\n",
    "import matplotlib.cm as cm\n",
    "import matplotlib.colors as colors\n",
    "\n",
    "from sklearn.cluster import KMeans ##import KMeans from scikit-learn for clustering\n",
    "from pandas.io.json import json_normalize #tranforming json file into a pandas dataframe library\n",
    "import requests #library to handle requests\n",
    "\n",
    "#conda install -c conda-forge geopy --yes \n",
    "from geopy.geocoders import Nominatim # module to convert an address into latitude and longitude values\n",
    "\n",
    "#!conda install -c conda-forge folium=0.5.0 --yes\n",
    "import folium # plotting library"
   ]
  },
  {
   "cell_type": "markdown",
   "metadata": {},
   "source": [
    "The first step will be getting the credentials to access to the Foursquare API to explore the neighborhoods and segment them. They are saved in a Excel file."
   ]
  },
  {
   "cell_type": "code",
   "execution_count": 7,
   "metadata": {},
   "outputs": [
    {
     "data": {
      "text/plain": [
       "'C:\\\\Users\\\\Jota_Moreno\\\\Downloads\\\\Professional Certificate Data Science - IBM\\\\9. Capstone\\\\Notebook'"
      ]
     },
     "execution_count": 7,
     "metadata": {},
     "output_type": "execute_result"
    }
   ],
   "source": [
    "#Getting the main directory\n",
    "os.getcwd()"
   ]
  },
  {
   "cell_type": "code",
   "execution_count": 11,
   "metadata": {},
   "outputs": [
    {
     "data": {
      "text/plain": [
       "['0. Applied Data Science Capstone.mp4',\n",
       " '1. How to access the foursquare data.mp4',\n",
       " '2. Foursquare developer account.mp4',\n",
       " '3. Foursquare Search.mp4',\n",
       " '4. Explore and other queries.mp4',\n",
       " '5. Introduction to clustering.mp4',\n",
       " '6. KMeans Clustering.mp4',\n",
       " 'Foursquare.csv',\n",
       " 'Foursquare.xlsx',\n",
       " 'Notebook']"
      ]
     },
     "execution_count": 11,
     "metadata": {},
     "output_type": "execute_result"
    }
   ],
   "source": [
    "#Changing main directory\n",
    "os.chdir('C:\\\\Users\\\\Jota_Moreno\\\\Downloads\\\\Professional Certificate Data Science - IBM\\\\9. Capstone')\n",
    "\n",
    "#Getting all the files\n",
    "os.listdir()"
   ]
  },
  {
   "cell_type": "code",
   "execution_count": 12,
   "metadata": {},
   "outputs": [],
   "source": [
    "#Getting the credentials\n",
    "credentials = pd.read_excel(\"Foursquare.xlsx\")\n",
    "\n",
    "#Naming the credentials\n",
    "CLIENT_ID = credentials.loc[0,\"CLIENT ID\"]\n",
    "CLIENT_SECRET = credentials.loc[0,\"CLIENT SECRET\"]\n",
    "ACCESS_TOKEN = credentials.loc[0,\"ACCESS_TOKEN\"]\n",
    "VERSION = '20180604'"
   ]
  }
 ],
 "metadata": {
  "kernelspec": {
   "display_name": "Python 3",
   "language": "python",
   "name": "python3"
  },
  "language_info": {
   "codemirror_mode": {
    "name": "ipython",
    "version": 3
   },
   "file_extension": ".py",
   "mimetype": "text/x-python",
   "name": "python",
   "nbconvert_exporter": "python",
   "pygments_lexer": "ipython3",
   "version": "3.7.4"
  }
 },
 "nbformat": 4,
 "nbformat_minor": 4
}
